{
 "cells": [
  {
   "attachments": {},
   "cell_type": "markdown",
   "metadata": {},
   "source": [
    "## Flujos de Control"
   ]
  },
  {
   "attachments": {},
   "cell_type": "markdown",
   "metadata": {},
   "source": [
    "1) Crear una variable que contenga un elemento del conjunto de números enteros y luego imprimir por pantalla si es mayor o menor a cero"
   ]
  },
  {
   "cell_type": "code",
   "execution_count": 3,
   "metadata": {},
   "outputs": [
    {
     "name": "stdout",
     "output_type": "stream",
     "text": [
      "0 Es igual a 0\n"
     ]
    }
   ],
   "source": [
    "x=3\n",
    "if x>0:\n",
    "    print(x, \"es mayor que 0\")\n",
    "elif x<0:\n",
    "    print(x, \"es menor que 0\")\n",
    "else:\n",
    "    print(x, \"Es igual a 0\")"
   ]
  },
  {
   "attachments": {},
   "cell_type": "markdown",
   "metadata": {},
   "source": [
    "2) Crear dos variables y un condicional que informe si son del mismo tipo de dato"
   ]
  },
  {
   "cell_type": "code",
   "execution_count": 74,
   "metadata": {},
   "outputs": [
    {
     "name": "stdout",
     "output_type": "stream",
     "text": [
      "Las dos variables son del mismo tipo\n"
     ]
    }
   ],
   "source": [
    "x=1\n",
    "y=3\n",
    "\n",
    "if type(x)==type(y):\n",
    "    print(\"Las dos variables son del mismo tipo\")\n",
    "else:\n",
    "    print(\"Las variables son de distinto tipo\")"
   ]
  },
  {
   "attachments": {},
   "cell_type": "markdown",
   "metadata": {},
   "source": [
    "3) Para los valores enteros del 1 al 20, imprimir por pantalla si es par o impar"
   ]
  },
  {
   "cell_type": "code",
   "execution_count": 7,
   "metadata": {},
   "outputs": [
    {
     "name": "stdout",
     "output_type": "stream",
     "text": [
      "1 es impar\n",
      "2 es par\n",
      "3 es impar\n",
      "4 es par\n",
      "5 es impar\n",
      "6 es par\n",
      "7 es impar\n",
      "8 es par\n",
      "9 es impar\n",
      "10 es par\n",
      "11 es impar\n",
      "12 es par\n",
      "13 es impar\n",
      "14 es par\n",
      "15 es impar\n",
      "16 es par\n",
      "17 es impar\n",
      "18 es par\n",
      "19 es impar\n",
      "20 es par\n"
     ]
    }
   ],
   "source": [
    "for num in range(1,21):\n",
    "    if num%2==0:\n",
    "        print(num, \"es par\")\n",
    "    else:\n",
    "        print(num, \"es impar\")"
   ]
  },
  {
   "attachments": {},
   "cell_type": "markdown",
   "metadata": {},
   "source": [
    "4) En un ciclo for mostrar para los valores entre 0 y 5 el resultado de elevarlo a la potencia igual a 3"
   ]
  },
  {
   "cell_type": "code",
   "execution_count": 8,
   "metadata": {},
   "outputs": [
    {
     "name": "stdout",
     "output_type": "stream",
     "text": [
      "0 elevado al cubo es igual a:  0\n",
      "1 elevado al cubo es igual a:  1\n",
      "2 elevado al cubo es igual a:  8\n",
      "3 elevado al cubo es igual a:  27\n",
      "4 elevado al cubo es igual a:  64\n",
      "5 elevado al cubo es igual a:  125\n"
     ]
    }
   ],
   "source": [
    "for num in range(6):\n",
    "    print(num, \"elevado al cubo es igual a: \", num**3)"
   ]
  },
  {
   "attachments": {},
   "cell_type": "markdown",
   "metadata": {},
   "source": [
    "5) Crear una variable que contenga un número entero y realizar un ciclo for la misma cantidad de ciclos"
   ]
  },
  {
   "cell_type": "code",
   "execution_count": 9,
   "metadata": {},
   "outputs": [
    {
     "name": "stdout",
     "output_type": "stream",
     "text": [
      "La variable es:  5\n",
      "Ciclo número:  1\n",
      "Ciclo número:  2\n",
      "Ciclo número:  3\n",
      "Ciclo número:  4\n",
      "Ciclo número:  5\n"
     ]
    }
   ],
   "source": [
    "var = 5\n",
    "print(\"La variable es: \",var)\n",
    "for num in range(var):\n",
    "    print(\"Ciclo número: \", num+1)"
   ]
  },
  {
   "attachments": {},
   "cell_type": "markdown",
   "metadata": {},
   "source": [
    "6) Utilizar un ciclo while para realizar el factorial de un número guardado en una variable, sólo si la variable contiene un número entero mayor a 0"
   ]
  },
  {
   "cell_type": "code",
   "execution_count": 29,
   "metadata": {},
   "outputs": [
    {
     "name": "stdout",
     "output_type": "stream",
     "text": [
      "El factorial de: 3 es igual a: 6\n"
     ]
    }
   ],
   "source": [
    "var = 3\n",
    "if var>0 and var==round(var):\n",
    "    factorial = 1\n",
    "    operando = var\n",
    "    while(operando>0):\n",
    "        factorial = factorial * operando\n",
    "        operando -=1\n",
    "    print(\"El factorial de:\", var, \"es igual a:\", factorial)\n",
    "else:\n",
    "    print(\"El número no es entero o es menor igual que 0\")"
   ]
  },
  {
   "attachments": {},
   "cell_type": "markdown",
   "metadata": {},
   "source": [
    "7) Crear un ciclo for dentro de un ciclo while"
   ]
  },
  {
   "cell_type": "code",
   "execution_count": 30,
   "metadata": {},
   "outputs": [
    {
     "name": "stdout",
     "output_type": "stream",
     "text": [
      "Esto se repite 3 veces\n",
      "Esto se repite 3 veces\n",
      "Esto se repite 3 veces\n",
      "Esto se repite 2 veces\n",
      "Esto se repite 2 veces\n",
      "Esto se repite 1 veces\n"
     ]
    }
   ],
   "source": [
    "i=3\n",
    "while i>0:\n",
    "    for j in range(i):\n",
    "        print(\"Esto se repite\", i, \"veces\")\n",
    "    i-=1"
   ]
  },
  {
   "attachments": {},
   "cell_type": "markdown",
   "metadata": {},
   "source": [
    "8) Crear un ciclo while dentro de un ciclo for"
   ]
  },
  {
   "cell_type": "code",
   "execution_count": 33,
   "metadata": {},
   "outputs": [
    {
     "name": "stdout",
     "output_type": "stream",
     "text": [
      "Esto se repite 3 veces\n",
      "Esto se repite 3 veces\n",
      "Esto se repite 3 veces\n",
      "Esto se repite 2 veces\n",
      "Esto se repite 2 veces\n",
      "Esto se repite 1 veces\n"
     ]
    }
   ],
   "source": [
    "for i in range(3):\n",
    "    j=3-i\n",
    "    while j>0:\n",
    "        print(\"Esto se repite\", 3-i, \"veces\")\n",
    "        j-=1\n",
    "    pass"
   ]
  },
  {
   "attachments": {},
   "cell_type": "markdown",
   "metadata": {},
   "source": [
    "9) Imprimir los números primos existentes entre 0 y 30"
   ]
  },
  {
   "cell_type": "code",
   "execution_count": 37,
   "metadata": {},
   "outputs": [
    {
     "name": "stdout",
     "output_type": "stream",
     "text": [
      "0 no es primo\n",
      "1 no es primo\n",
      "2 es primo\n",
      "3 es primo\n",
      "4 no es primo\n",
      "5 es primo\n",
      "6 no es primo\n",
      "7 es primo\n",
      "8 no es primo\n",
      "9 no es primo\n",
      "10 no es primo\n",
      "11 es primo\n",
      "12 no es primo\n",
      "13 es primo\n",
      "14 no es primo\n",
      "15 no es primo\n",
      "16 no es primo\n",
      "17 es primo\n",
      "18 no es primo\n",
      "19 es primo\n",
      "20 no es primo\n",
      "21 no es primo\n",
      "22 no es primo\n",
      "23 es primo\n",
      "24 no es primo\n",
      "25 no es primo\n",
      "26 no es primo\n",
      "27 no es primo\n",
      "28 no es primo\n",
      "29 es primo\n",
      "30 no es primo\n"
     ]
    }
   ],
   "source": [
    "# Números primos son los números que solo son divisibles entre si y el 1.\n",
    "# Podemos usar un loop para los 30 numeros. y usar el operador % evaluando el residuo.\n",
    "\n",
    "for num in range(0, 31):    # evaluamos del 0 al 30.\n",
    "    num_factores = 0        # variable para contar la cantidad de factores para cada num.\n",
    "    divisor = 1             # divisor que ira incrementando por cada evaluación.\n",
    "    while divisor < num :               #loop para evaluar cantidad de divisores de cada num.\n",
    "            if num % divisor == 0:      \n",
    "                  num_factores += 1\n",
    "            divisor+=1\n",
    "\n",
    "    if num_factores==1:     # Condicional que evalua si un numero es primo, en base a la cantida de factores.\n",
    "          print(num, \"es primo\")\n",
    "    else:\n",
    "          print(num, \"no es primo\")\n"
   ]
  },
  {
   "attachments": {},
   "cell_type": "markdown",
   "metadata": {},
   "source": [
    "10) ¿Se puede mejorar el proceso del punto 9? Utilizar las sentencias break y/ó continue para tal fin"
   ]
  },
  {
   "cell_type": "code",
   "execution_count": 41,
   "metadata": {},
   "outputs": [
    {
     "name": "stdout",
     "output_type": "stream",
     "text": [
      "0 no es primo\n",
      "1 no es primo\n",
      "2 es primo\n",
      "3 es primo\n",
      "4 no es primo\n",
      "5 es primo\n",
      "6 no es primo\n",
      "7 es primo\n",
      "8 no es primo\n",
      "9 no es primo\n",
      "10 no es primo\n",
      "11 es primo\n",
      "12 no es primo\n",
      "13 es primo\n",
      "14 no es primo\n",
      "15 no es primo\n",
      "16 no es primo\n",
      "17 es primo\n",
      "18 no es primo\n",
      "19 es primo\n",
      "20 no es primo\n",
      "21 no es primo\n",
      "22 no es primo\n",
      "23 es primo\n",
      "24 no es primo\n",
      "25 no es primo\n",
      "26 no es primo\n",
      "27 no es primo\n",
      "28 no es primo\n",
      "29 es primo\n",
      "30 no es primo\n"
     ]
    }
   ],
   "source": [
    "for num in range(0, 31): \n",
    "    if num in range(2):\n",
    "          print(num, \"no es primo\")\n",
    "          continue   \n",
    "    num_factores = 0        \n",
    "    divisor = 1             \n",
    "    while divisor < num :               \n",
    "            if num % divisor == 0:      \n",
    "                  num_factores += 1\n",
    "            divisor+=1\n",
    "            if num_factores > 1:\n",
    "                  print(num, \"no es primo\")\n",
    "                  break\n",
    "    else:\n",
    "        print(num, \"es primo\")\n"
   ]
  },
  {
   "attachments": {},
   "cell_type": "markdown",
   "metadata": {},
   "source": [
    "11) En los puntos 9 y 10, se diseño un código que encuentra números primos y además se lo optimizó. ¿Es posible saber en qué medida se optimizó?"
   ]
  },
  {
   "cell_type": "code",
   "execution_count": 45,
   "metadata": {},
   "outputs": [
    {
     "name": "stdout",
     "output_type": "stream",
     "text": [
      "Cantidad de operaciones 1: 435\n",
      "Cantidad de operaciones 2: 164\n"
     ]
    }
   ],
   "source": [
    "# Podríamos agregar un contador de operaciones realizadas y comparar ambos códigos.\n",
    "# Código 1\n",
    "operaciones_1 = 0\n",
    "for num in range(0, 31):    \n",
    "    num_factores = 0        \n",
    "    divisor = 1             \n",
    "    while divisor < num :\n",
    "            operaciones_1+=1               \n",
    "            if num % divisor == 0:      \n",
    "                  num_factores += 1\n",
    "            divisor+=1\n",
    "\n",
    "    if num_factores==1:     \n",
    "          pass\n",
    "          #print(num, \"es primo\")\n",
    "    else:\n",
    "          pass\n",
    "          #print(num, \"no es primo\")\n",
    "print(\"Cantidad de operaciones 1:\", operaciones_1)\n",
    "\n",
    "# Código 2\n",
    "operaciones_2 = 0\n",
    "for num in range(0, 31): \n",
    "    if num in range(2):\n",
    "          # print(num, \"no es primo\")\n",
    "          continue   \n",
    "    num_factores = 0        \n",
    "    divisor = 1             \n",
    "    while divisor < num :\n",
    "            operaciones_2+=1            \n",
    "            if num % divisor == 0:   \n",
    "                  num_factores += 1\n",
    "            divisor+=1\n",
    "            if num_factores > 1:\n",
    "                  # print(num, \"no es primo\")\n",
    "                  break\n",
    "    else:\n",
    "        pass\n",
    "        # print(num, \"es primo\")\n",
    "print(\"Cantidad de operaciones 2:\", operaciones_2)"
   ]
  },
  {
   "attachments": {},
   "cell_type": "markdown",
   "metadata": {},
   "source": [
    "12) Aplicando continue, armar un ciclo while que solo imprima los valores divisibles por 12, dentro del rango de números de 100 a 300"
   ]
  },
  {
   "cell_type": "code",
   "execution_count": 48,
   "metadata": {},
   "outputs": [
    {
     "name": "stdout",
     "output_type": "stream",
     "text": [
      "108 Es divisible entre 12\n",
      "120 Es divisible entre 12\n",
      "132 Es divisible entre 12\n",
      "144 Es divisible entre 12\n",
      "156 Es divisible entre 12\n",
      "168 Es divisible entre 12\n",
      "180 Es divisible entre 12\n",
      "192 Es divisible entre 12\n",
      "204 Es divisible entre 12\n",
      "216 Es divisible entre 12\n",
      "228 Es divisible entre 12\n",
      "240 Es divisible entre 12\n",
      "252 Es divisible entre 12\n",
      "264 Es divisible entre 12\n",
      "276 Es divisible entre 12\n",
      "288 Es divisible entre 12\n",
      "300 Es divisible entre 12\n"
     ]
    }
   ],
   "source": [
    "num = 100\n",
    "while num<=300:\n",
    "    if num%12==0:\n",
    "        print(num, \"Es divisible entre 12\")\n",
    "        num+=1\n",
    "        continue\n",
    "    num+=1"
   ]
  },
  {
   "attachments": {},
   "cell_type": "markdown",
   "metadata": {},
   "source": [
    "13) Utilizar la función **input()** que permite hacer ingresos por teclado, para encontrar números primos y dar la opción al usario de buscar el siguiente"
   ]
  },
  {
   "cell_type": "code",
   "execution_count": 66,
   "metadata": {},
   "outputs": [
    {
     "name": "stdout",
     "output_type": "stream",
     "text": [
      "Evaluación de números primos: \n",
      "-1 No es primo\n",
      "-3 No es primo\n",
      "1 No es primo\n",
      "2 es primo\n",
      "-55 No es primo\n",
      "0 No es primo\n",
      "55 no es primo.\n",
      "13 es primo\n"
     ]
    }
   ],
   "source": [
    "print(\"Evaluación de números primos: \")\n",
    "\n",
    "while True:\n",
    "    num = int(input(\"Ingrese un número: \"))\n",
    "\n",
    "    for i in range(2, num):             # Aquí se me ocurrió otra forma de evaluar si un número es primo. Obvs: Si hacemos un range(2,2) , el rango es 0 y no se ejecuta el foor loop\n",
    "        if num%i==0:                    \n",
    "            print(num, \"no es primo.\")\n",
    "            break\n",
    "    else:\n",
    "        if num<2:\n",
    "            print(num, \"No es primo\")\n",
    "        else:\n",
    "            print(num, \"es primo\")\n",
    "\n",
    "    response = input(\"Desea evaluar otro numero? Y/N: \")\n",
    "\n",
    "    if response.lower() =='y':\n",
    "        pass\n",
    "    else:\n",
    "        break\n",
    "\n"
   ]
  },
  {
   "attachments": {},
   "cell_type": "markdown",
   "metadata": {},
   "source": [
    "14) Crear un ciclo while que encuentre dentro del rango de 100 a 300 el primer número divisible por 3 y además múltiplo de 6"
   ]
  },
  {
   "cell_type": "code",
   "execution_count": 72,
   "metadata": {},
   "outputs": [
    {
     "name": "stdout",
     "output_type": "stream",
     "text": [
      "102\n"
     ]
    }
   ],
   "source": [
    "num=100\n",
    "while num<=300:\n",
    "    if num % 6 == 0:    # Al ser múltiplo de 6, también es divisible por 3. \n",
    "        print(num)\n",
    "        break\n",
    "    num+=1\n"
   ]
  }
 ],
 "metadata": {
  "interpreter": {
   "hash": "c85384e4cb51c8b72350f3a8712cc8351fdc3955e32a27f9b60c6242ab125f01"
  },
  "kernelspec": {
   "display_name": "Python 3 (ipykernel)",
   "language": "python",
   "name": "python3"
  },
  "language_info": {
   "codemirror_mode": {
    "name": "ipython",
    "version": 3
   },
   "file_extension": ".py",
   "mimetype": "text/x-python",
   "name": "python",
   "nbconvert_exporter": "python",
   "pygments_lexer": "ipython3",
   "version": "3.9.6"
  }
 },
 "nbformat": 4,
 "nbformat_minor": 4
}
