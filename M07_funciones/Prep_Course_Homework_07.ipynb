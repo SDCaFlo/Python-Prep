{
 "cells": [
  {
   "attachments": {},
   "cell_type": "markdown",
   "metadata": {},
   "source": [
    "## Funciones"
   ]
  },
  {
   "attachments": {},
   "cell_type": "markdown",
   "metadata": {},
   "source": [
    "1) Crear una función que reciba un número como parámetro y devuelva True si es primo y False si no lo es"
   ]
  },
  {
   "cell_type": "code",
   "execution_count": 67,
   "metadata": {},
   "outputs": [
    {
     "data": {
      "text/plain": [
       "False"
      ]
     },
     "execution_count": 67,
     "metadata": {},
     "output_type": "execute_result"
    }
   ],
   "source": [
    "def es_primo(num:int=1):\n",
    "    for i in range(2, num):\n",
    "        if num%i==0:\n",
    "            return False\n",
    "    else:\n",
    "        return True\n",
    "\n",
    "es_primo(102)"
   ]
  },
  {
   "attachments": {},
   "cell_type": "markdown",
   "metadata": {},
   "source": [
    "2) Utilizando la función del punto 1, realizar otra función que reciba de parámetro una lista de números y devuelva sólo aquellos que son primos en otra lista"
   ]
  },
  {
   "cell_type": "code",
   "execution_count": 70,
   "metadata": {},
   "outputs": [
    {
     "name": "stdout",
     "output_type": "stream",
     "text": [
      "[3, 19, 29, 101, 103, 107]\n",
      "[3, 19, 29, 101, 103, 107]\n"
     ]
    }
   ],
   "source": [
    "def es_primo_lista(num_list: list= [1, ]):\n",
    "    lista_primos = []\n",
    "    for num in num_list:\n",
    "        for i in range(2,num):\n",
    "            if num%i==0:\n",
    "                break\n",
    "        else:\n",
    "            lista_primos.append(num)\n",
    "    return lista_primos\n",
    "\n",
    "# Usando la función antes definida\n",
    "\n",
    "def es_primo_lista2(num_list: list):\n",
    "    lista_primos = []\n",
    "    for num in num_list:\n",
    "        if es_primo(num):\n",
    "            lista_primos.append(num)\n",
    "    return lista_primos\n",
    "\n",
    "lista_num = [3, 8 , 21, 9, 15, 19, 29, 51, 55, 99, 101,103, 111, 107]\n",
    "\n",
    "print(es_primo_lista(lista_num))\n",
    "print(es_primo_lista2(lista_num))"
   ]
  },
  {
   "attachments": {},
   "cell_type": "markdown",
   "metadata": {},
   "source": [
    "3) Crear una función que al recibir una lista de números, devuelva el que más se repite y cuántas veces lo hace. Si hay más de un \"más repetido\", que devuelva cualquiera"
   ]
  },
  {
   "cell_type": "code",
   "execution_count": 35,
   "metadata": {},
   "outputs": [
    {
     "name": "stdout",
     "output_type": "stream",
     "text": [
      "El número que más se repite es el 5, por un total de 3 veces\n"
     ]
    }
   ],
   "source": [
    "def encontrar_repetidos(lista_num: list = []):\n",
    "    count = 0\n",
    "    numero = 0\n",
    "    for num in lista_num:\n",
    "        if lista_num.count(num)>count:\n",
    "            numero = num\n",
    "            count = lista_num.count(num)\n",
    "    return numero, count\n",
    "\n",
    "lista_numeros = [3, 3, 4, 4, 5, 5, 5, 6, 6, 6]\n",
    "\n",
    "result = encontrar_repetidos(lista_numeros)\n",
    "print(f\"El número que más se repite es el {result[0]}, por un total de {result[1]} veces\")"
   ]
  },
  {
   "attachments": {},
   "cell_type": "markdown",
   "metadata": {},
   "source": [
    "4) Crear una función que convierta entre grados Celsius, Farenheit y Kelvin<br>\n",
    "Fórmula 1\t: (°C × 9/5) + 32 = °F<br>\n",
    "Fórmula 2\t: °C + 273.15 = °K<br>\n",
    "Debe recibir 3 parámetros: el valor, la medida de orígen y la medida de destino\n"
   ]
  },
  {
   "cell_type": "code",
   "execution_count": 39,
   "metadata": {},
   "outputs": [
    {
     "name": "stdout",
     "output_type": "stream",
     "text": [
      "-459.4\n"
     ]
    }
   ],
   "source": [
    "def conversion_temperatura(valor, escala_origen: str, escala_destino: str):\n",
    "    \"\"\"Convierte entre diferentes tipos de escalas de medición de temperatura.\n",
    "    Las escalas de origen y destino se especifican con las letras: \"C\", \"K\" y \"F\". \"\"\"\n",
    "    escala_origen = escala_origen.casefold()\n",
    "    escala_destino = escala_destino.casefold()\n",
    "    resultado = 0\n",
    "\n",
    "    # 1. convertir a Celsius.\n",
    "    if escala_origen == \"c\":\n",
    "        pass\n",
    "    elif escala_origen == \"k\":\n",
    "        valor -= 273\n",
    "    elif escala_origen == \"f\":\n",
    "        valor = (valor-32)*(5/9)\n",
    "    else:\n",
    "        raise ValueError(\"Por favor ingresar escala origen valida\")\n",
    "    \n",
    "    if escala_destino == \"c\":\n",
    "        resultado = valor\n",
    "    elif escala_destino == \"k\":\n",
    "        resultado = valor + 273\n",
    "    elif escala_destino == \"f\":\n",
    "        resultado = (valor*9/5) + 32\n",
    "    else:\n",
    "        raise ValueError(\"Por favor ingresar escala destino valida\")\n",
    "    \n",
    "    return resultado\n",
    "\n",
    "print(conversion_temperatura(0, \"k\", \"f\"))\n"
   ]
  },
  {
   "attachments": {},
   "cell_type": "markdown",
   "metadata": {},
   "source": [
    "5) Iterando una lista con los tres valores posibles de temperatura que recibe la función del punto 5, hacer un print para cada combinación de los mismos:"
   ]
  },
  {
   "cell_type": "code",
   "execution_count": 41,
   "metadata": {},
   "outputs": [
    {
     "name": "stdout",
     "output_type": "stream",
     "text": [
      "100 grados c equivalen a: 100 grados c\n",
      "100 grados c equivalen a: 373 grados k\n",
      "100 grados c equivalen a: 212.0 grados f\n",
      "100 grados k equivalen a: -173 grados c\n",
      "100 grados k equivalen a: 100 grados k\n",
      "100 grados k equivalen a: -279.4 grados f\n",
      "100 grados f equivalen a: 37.77777777777778 grados c\n",
      "100 grados f equivalen a: 310.77777777777777 grados k\n",
      "100 grados f equivalen a: 100.0 grados f\n"
     ]
    }
   ],
   "source": [
    "lista_escalas = [\"c\", \"k\", \"f\"]\n",
    "\n",
    "valor_origen = 100\n",
    "for escala_origen in lista_escalas:\n",
    "    for escala_destino in lista_escalas:\n",
    "        print(f\"{valor_origen} grados {escala_origen} equivalen a: {conversion_temperatura(100, escala_origen, escala_destino)} grados {escala_destino}\")"
   ]
  },
  {
   "attachments": {},
   "cell_type": "markdown",
   "metadata": {},
   "source": [
    "6) Armar una función que devuelva el factorial de un número. Tener en cuenta que el usuario puede equivocarse y enviar de parámetro un número no entero o negativo"
   ]
  },
  {
   "cell_type": "code",
   "execution_count": 59,
   "metadata": {},
   "outputs": [
    {
     "data": {
      "text/plain": [
       "6"
      ]
     },
     "execution_count": 59,
     "metadata": {},
     "output_type": "execute_result"
    }
   ],
   "source": [
    "def calcular_factorial(num: int = 1):\n",
    "    if num<1 or type(num)!=int:\n",
    "        raise ValueError(\"Verificar la variable ingresada\")\n",
    "\n",
    "    if num>1:\n",
    "        num = num*calcular_factorial(num-1)\n",
    "    return num\n",
    "\n",
    "calcular_factorial(3)"
   ]
  },
  {
   "cell_type": "code",
   "execution_count": null,
   "metadata": {},
   "outputs": [],
   "source": []
  }
 ],
 "metadata": {
  "interpreter": {
   "hash": "c85384e4cb51c8b72350f3a8712cc8351fdc3955e32a27f9b60c6242ab125f01"
  },
  "kernelspec": {
   "display_name": "Python 3 (ipykernel)",
   "language": "python",
   "name": "python3"
  },
  "language_info": {
   "codemirror_mode": {
    "name": "ipython",
    "version": 3
   },
   "file_extension": ".py",
   "mimetype": "text/x-python",
   "name": "python",
   "nbconvert_exporter": "python",
   "pygments_lexer": "ipython3",
   "version": "3.9.6"
  }
 },
 "nbformat": 4,
 "nbformat_minor": 4
}
