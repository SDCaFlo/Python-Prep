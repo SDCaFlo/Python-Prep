{
 "cells": [
  {
   "cell_type": "markdown",
   "metadata": {},
   "source": [
    "Algunos ejercicios se tomaron de: \n",
    "https://sites.google.com/site/programacioniiuno/material/ejercicios-y-tps/ejercicios-recursividad"
   ]
  },
  {
   "cell_type": "markdown",
   "metadata": {},
   "source": [
    "Implemente un algoritmo, usando una función recursiva, que resuelva la siguiente\n",
    "sumatoria:\n",
    "\n",
    "K(n, p) = p + 2 ∗ p + 3 ∗ p + 4 ∗ p + … + n ∗ p\n",
    "\n",
    "● El programa debe pedir al usuario que ingrese un número n, y un número p,\n",
    "\n",
    "● Luego debe calcular el valor de K(n, p) usando una función recursiva,\n",
    "\n",
    "● Debe imprimir el resultado de K(n, p)"
   ]
  },
  {
   "cell_type": "code",
   "execution_count": 3,
   "metadata": {},
   "outputs": [
    {
     "data": {
      "text/plain": [
       "15"
      ]
     },
     "execution_count": 3,
     "metadata": {},
     "output_type": "execute_result"
    }
   ],
   "source": [
    "def funcion_recursiva(num, limite):\n",
    "    if limite == 1:\n",
    "        return num\n",
    "    else:\n",
    "        return num*limite + funcion_recursiva(num, limite-1)\n",
    "    \n",
    "\n",
    "funcion_recursiva(5,2)"
   ]
  },
  {
   "cell_type": "markdown",
   "metadata": {},
   "source": [
    "rangoHasta(n) -> Lista de números: dado un número \"n\", retorna la lista de números desde el 0 hasta el N incluído. Por ejemplo: rangoHasta(5) -> [0,1,2,3,4,5].\n"
   ]
  },
  {
   "cell_type": "code",
   "execution_count": 4,
   "metadata": {},
   "outputs": [
    {
     "name": "stdout",
     "output_type": "stream",
     "text": [
      "[0, 1, 2, 3, 4, 5, 6, 7, 8, 9, 10, 11, 12, 13, 14, 15, 16, 17, 18, 19]\n"
     ]
    }
   ],
   "source": [
    "def rangoHasta(num):\n",
    "    if num==0:\n",
    "        return [0]\n",
    "    lista = [num] + rangoHasta(num-1)\n",
    "    lista.sort()\n",
    "    return lista\n",
    "    \n",
    "print(rangoHasta(19))"
   ]
  },
  {
   "cell_type": "markdown",
   "metadata": {},
   "source": [
    "3. rango(desde, hasta) -> lista de números: similar a rango, pero ahora se puede especificar el \"desde\". Ej: rango(5, 10) -> [5,6,7,8,9,10]. No hace falta validar que desde sea menor a hasta o tener rangos decrecientes."
   ]
  },
  {
   "cell_type": "code",
   "execution_count": 5,
   "metadata": {},
   "outputs": [
    {
     "data": {
      "text/plain": [
       "[8, 9]"
      ]
     },
     "execution_count": 5,
     "metadata": {},
     "output_type": "execute_result"
    }
   ],
   "source": [
    "def rango(desde, hasta):\n",
    "    if desde>=hasta:\n",
    "        return [desde, ]\n",
    "    lista = [desde] + rango(desde+1, hasta)\n",
    "    return lista\n",
    "\n",
    "rango(8, 9)"
   ]
  },
  {
   "cell_type": "markdown",
   "metadata": {},
   "source": [
    "sumaHasta(n) -> numero. Retorna la suma de los numeros desde el 0 hasta el N. Por ejemplo. sumaHasta(5) = 5 + 4 + 3 + 2 + 1 + 0 => 15"
   ]
  },
  {
   "cell_type": "code",
   "execution_count": 6,
   "metadata": {},
   "outputs": [
    {
     "data": {
      "text/plain": [
       "10"
      ]
     },
     "execution_count": 6,
     "metadata": {},
     "output_type": "execute_result"
    }
   ],
   "source": [
    "def sumaHasta(num):\n",
    "    if num==0:\n",
    "        return 0\n",
    "    sum = num + sumaHasta(num-1)\n",
    "    return sum\n",
    "\n",
    "sumaHasta(4)"
   ]
  },
  {
   "cell_type": "markdown",
   "metadata": {},
   "source": [
    "removerTodos(lista, elemento): -> lista, Dada una lista y un elemento, retorna otra lista igual a la original, pero sin el \"elemento\" dado. En caso en que el elemento aparezca múltiples veces, lo remueve de todas. Ejemplo: remover([1,2,3,1,6,7,1,9,1], 1) -> [2,3,6,7,9]"
   ]
  },
  {
   "cell_type": "code",
   "execution_count": 7,
   "metadata": {},
   "outputs": [
    {
     "data": {
      "text/plain": [
       "[2, 2, 4, 5, 7, 8, 8, 8]"
      ]
     },
     "execution_count": 7,
     "metadata": {},
     "output_type": "execute_result"
    }
   ],
   "source": [
    "lista = [1, 1, 1, 2, 2, 4, 5, 7, 8, 8, 8]\n",
    "def removerTodos(lista: list, elemento):\n",
    "    if lista.count(elemento) == 0:\n",
    "        return lista\n",
    "    lista.remove(elemento)\n",
    "    return removerTodos(lista, elemento)\n",
    "\n",
    "removerTodos(lista, 1)\n",
    "\n"
   ]
  },
  {
   "cell_type": "markdown",
   "metadata": {},
   "source": [
    "aparear(unaLista, otra) -> lista de pares (x, y): tal que \"x\" pertence a \"unaLista\", e y pertenece a \"otra\". Ejemplo: aparear([1,2,3], ['a','b','c']) -> [ (1,'a'), (2,'b'), (3,'c')]"
   ]
  },
  {
   "cell_type": "code",
   "execution_count": 8,
   "metadata": {},
   "outputs": [
    {
     "name": "stdout",
     "output_type": "stream",
     "text": [
      "[(1, 'a'), (2, 'b'), (3, 'c')]\n",
      "[]\n"
     ]
    }
   ],
   "source": [
    "lista_1 = [1, 2, 3]\n",
    "lista_2 = [\"a\", \"b\", \"c\"]\n",
    "\n",
    "def aparear_listas(list1: list, list2: list):\n",
    "    if len(list1) ==0 or len(list2) == 0:\n",
    "        return []\n",
    "    lista = [(list1[0], list2[0])]\n",
    "    list1.pop(0)\n",
    "    list2.pop(0)\n",
    "    lista = lista + aparear_listas(list1, list2)\n",
    "    return lista\n",
    "\n",
    "print(aparear_listas(lista_1, lista_2))\n",
    "print(lista_1)\n"
   ]
  },
  {
   "cell_type": "markdown",
   "metadata": {},
   "source": [
    "aMayusculas(unString) -> otro string igual pero en mayusculas. Acordarse que los strings también se pueden tratar como listas"
   ]
  },
  {
   "cell_type": "code",
   "execution_count": 9,
   "metadata": {},
   "outputs": [
    {
     "data": {
      "text/plain": [
       "'KASDASDASAD'"
      ]
     },
     "execution_count": 9,
     "metadata": {},
     "output_type": "execute_result"
    }
   ],
   "source": [
    "def aMayusculas(palabra: str):\n",
    "    if len(palabra)==1:\n",
    "        return palabra.upper()\n",
    "    nueva_palabra = palabra[0].upper() + aMayusculas(palabra[1:])\n",
    "    return nueva_palabra\n",
    "\n",
    "aMayusculas(\"KASDasdasAD\")"
   ]
  },
  {
   "cell_type": "markdown",
   "metadata": {},
   "source": [
    "sumarN(n, numeros): Realizar una función que dada una lista de números y un número N, retorna la suma de todos los N primeros elementos. Ejemplo sumarN(3, [2, 4, 6, 8, 10, 12]) -> 2+4+6 = 24"
   ]
  },
  {
   "cell_type": "code",
   "execution_count": 10,
   "metadata": {},
   "outputs": [
    {
     "data": {
      "text/plain": [
       "10"
      ]
     },
     "execution_count": 10,
     "metadata": {},
     "output_type": "execute_result"
    }
   ],
   "source": [
    "def sumarN(n, numeros):\n",
    "    if n==1:\n",
    "        return numeros[0]\n",
    "    suma = numeros[n-1] + sumarN(n-1, numeros)\n",
    "    return suma\n",
    "\n",
    "lista_nums = [1, 2, 3, 4, 5, 6]\n",
    "sumarN(4, lista_nums)"
   ]
  },
  {
   "cell_type": "markdown",
   "metadata": {},
   "source": [
    "ordenar(numeros): Realizar una función que dada una lista de números retorne otra lista con los mismos números pero ordenados de menor a mayor. Pista: en una lista ordenada siempre se da que un elemento en la posición x es el mínimo de la sublista que sigue. Ej: ordenar([3,6, -1]) -> [-1,3,6]"
   ]
  },
  {
   "cell_type": "code",
   "execution_count": 21,
   "metadata": {},
   "outputs": [
    {
     "data": {
      "text/plain": [
       "[-2, -1, 3, 6]"
      ]
     },
     "execution_count": 21,
     "metadata": {},
     "output_type": "execute_result"
    }
   ],
   "source": [
    "def ordenar(numeros: list):\n",
    "    if len(numeros)==1:\n",
    "        return [numeros[0], ]\n",
    "    min_number = min(numeros)\n",
    "    lista_ordenada = [min_number, ]\n",
    "    numeros.remove(min_number)\n",
    "    lista_ordenada = lista_ordenada + ordenar(numeros)\n",
    "    return lista_ordenada\n",
    "\n",
    "lista = [3, 6, -1, -2]\n",
    "ordenar(lista)\n"
   ]
  },
  {
   "cell_type": "markdown",
   "metadata": {},
   "source": [
    "sinDuplicados(lista): Realizar una función recursiva que dada una lista, retorna la lista de esos elementos sin duplicados. Recordar que dado un elemento, sabemos que es duplicado si está en otra parte de la lista. Recuerden el operador \"in\". Ej: unNumero in numeros."
   ]
  },
  {
   "cell_type": "code",
   "execution_count": 11,
   "metadata": {},
   "outputs": [
    {
     "name": "stdout",
     "output_type": "stream",
     "text": [
      "[3, 1, 2, 5, 6]\n",
      "[3, 3, 3, 1, 1, 2, 2, 5, 5, 5, 6, 6]\n"
     ]
    }
   ],
   "source": [
    "def sinDuplicados(lista: list):\n",
    "    # pseudocodigo.\n",
    "    # elemnto1 in lista.\n",
    "    #   remover elemento.\n",
    "    # volver a llamar a la funcion\n",
    "    # retornar la lista.\n",
    "    copia_lista = lista.copy()\n",
    "    if len(copia_lista)==0:\n",
    "        return []\n",
    "    lista_unicos = [copia_lista.pop(0)]\n",
    "    if lista_unicos[-1] in copia_lista:\n",
    "        lista_unicos.pop(-1)\n",
    "    lista_unicos+=sinDuplicados(copia_lista)\n",
    "\n",
    "    return lista_unicos\n",
    "\n",
    "lista_repetidos = [3,3,3, 1,1 , 2, 2, 5, 5, 5, 6, 6]\n",
    "print(sinDuplicados(lista_repetidos))\n",
    "print(lista_repetidos)\n"
   ]
  },
  {
   "cell_type": "code",
   "execution_count": null,
   "metadata": {},
   "outputs": [],
   "source": []
  }
 ],
 "metadata": {
  "kernelspec": {
   "display_name": "Python 3",
   "language": "python",
   "name": "python3"
  },
  "language_info": {
   "codemirror_mode": {
    "name": "ipython",
    "version": 3
   },
   "file_extension": ".py",
   "mimetype": "text/x-python",
   "name": "python",
   "nbconvert_exporter": "python",
   "pygments_lexer": "ipython3",
   "version": "3.9.6"
  }
 },
 "nbformat": 4,
 "nbformat_minor": 2
}
