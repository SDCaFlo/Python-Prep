{
 "cells": [
  {
   "attachments": {},
   "cell_type": "markdown",
   "metadata": {},
   "source": [
    "## Clases y Programación Orientada a Objetos"
   ]
  },
  {
   "attachments": {},
   "cell_type": "markdown",
   "metadata": {},
   "source": [
    "1) Crear la clase vehículo que contenga los atributos:<br>\n",
    "Color<br>\n",
    "Si es moto, auto, camioneta ó camión<br>\n",
    "Cilindrada del motor"
   ]
  },
  {
   "cell_type": "code",
   "execution_count": 8,
   "metadata": {},
   "outputs": [],
   "source": [
    "class Vehiculo:\n",
    "    def __init__(self, color, tipo, cilindrada):\n",
    "        self.color = color\n",
    "        self.cilindrada = cilindrada\n",
    "        if tipo in [\"auto\", \"camioneta\", \"moto\", \"camión\"]:\n",
    "            self.tipo = tipo            \n",
    "        else:\n",
    "            self.tipo = \"auto\"\n",
    "            print(\"Se introduo un valor de tipo de vehículo inválido, por lo cual se configuró \"\"auto\"\" por defecto\")"
   ]
  },
  {
   "cell_type": "code",
   "execution_count": 9,
   "metadata": {},
   "outputs": [
    {
     "name": "stdout",
     "output_type": "stream",
     "text": [
      "Se introduo un valor de tipo de vehículo inválido, por lo cual se configuró auto por defecto\n",
      "auto\n"
     ]
    }
   ],
   "source": [
    "mi_carro = Vehiculo(\"rojo\", \"moto r\", 3000)\n",
    "print(mi_carro.tipo)"
   ]
  },
  {
   "attachments": {},
   "cell_type": "markdown",
   "metadata": {},
   "source": [
    "2) A la clase Vehiculo creada en el punto 1, agregar los siguientes métodos:<br>\n",
    "Acelerar<br>\n",
    "Frenar<br>\n",
    "Doblar<br>"
   ]
  },
  {
   "cell_type": "code",
   "execution_count": 13,
   "metadata": {},
   "outputs": [],
   "source": [
    "class Vehiculo:\n",
    "    def __init__(self, color, tipo, cilindrada):\n",
    "        self.color = color\n",
    "        self.cilindrada = cilindrada\n",
    "        if tipo in [\"auto\", \"camioneta\", \"moto\", \"camión\"]:\n",
    "            self.tipo = tipo            \n",
    "        else:\n",
    "            self.tipo = \"auto\"\n",
    "            print(\"Se introduo un valor de tipo de vehículo inválido, por lo cual se configuró \"\"auto\"\" por defecto\")\n",
    "    \n",
    "    def acelerar(self):\n",
    "        print(\"Acelerando!\")\n",
    "    \n",
    "    def frenar(self):\n",
    "        print(\"Frenando\")\n",
    "\n",
    "    def doblar(self):\n",
    "        print(\"Doblando\")"
   ]
  },
  {
   "cell_type": "code",
   "execution_count": 14,
   "metadata": {},
   "outputs": [
    {
     "name": "stdout",
     "output_type": "stream",
     "text": [
      "Se introduo un valor de tipo de vehículo inválido, por lo cual se configuró auto por defecto\n",
      "Doblando\n"
     ]
    }
   ],
   "source": [
    "mi_carro = Vehiculo(\"rojo\", \"moto r\", 3000)\n",
    "mi_carro.doblar()"
   ]
  },
  {
   "attachments": {},
   "cell_type": "markdown",
   "metadata": {},
   "source": [
    "3) Instanciar 3 objetos de la clase vehículo y ejecutar sus métodos, probar luego el resultado"
   ]
  },
  {
   "cell_type": "code",
   "execution_count": 15,
   "metadata": {},
   "outputs": [
    {
     "name": "stdout",
     "output_type": "stream",
     "text": [
      "Se introduo un valor de tipo de vehículo inválido, por lo cual se configuró auto por defecto\n",
      "Acelerando!\n",
      "Frenando\n",
      "Doblando\n"
     ]
    }
   ],
   "source": [
    "mi_carro = Vehiculo(\"negro\", \"camioneta\", 1000 )\n",
    "mi_moto = Vehiculo(\"Azul\", \"moto\", 1500)\n",
    "mi_camion = Vehiculo(\"Plomo\", \"camion\", 3000)\n",
    "mi_carro.acelerar()\n",
    "mi_moto.frenar()\n",
    "mi_camion.doblar()"
   ]
  },
  {
   "attachments": {},
   "cell_type": "markdown",
   "metadata": {},
   "source": [
    "4) Agregar a la clase Vehiculo, un método que muestre su estado, es decir, a que velocidad se encuentra y su dirección. Y otro método que muestre color, tipo y cilindrada"
   ]
  },
  {
   "cell_type": "code",
   "execution_count": 18,
   "metadata": {},
   "outputs": [],
   "source": [
    "# Modificamos la clase para que mantenga un atributo de velocidad.\n",
    "# que se inicializa en 0.\n",
    "\n",
    "class Vehiculo:\n",
    "    def __init__(self, color, tipo, cilindrada):\n",
    "        self.color = color\n",
    "        self.cilindrada = cilindrada\n",
    "        self.velocidad = 0      # atributo velocidad.\n",
    "        self.orientación = \"de frente\"\n",
    "        if tipo in [\"auto\", \"camioneta\", \"moto\", \"camión\"]:\n",
    "            self.tipo = tipo            \n",
    "        else:\n",
    "            self.tipo = \"auto\"\n",
    "            print(\"Se introduo un valor de tipo de vehículo inválido, por lo cual se configuró \"\"auto\"\" por defecto\")\n",
    "    \n",
    "    def acelerar(self):\n",
    "        print(\"Acelerando!\")\n",
    "        self.velocidad+=10  # al acelerar, aumenta la velocidad.\n",
    "    \n",
    "    def frenar(self):\n",
    "        print(\"Frenando\")\n",
    "        self.velocidad = 0  # al frenar la velocidad se vuelve 0.\n",
    "\n",
    "    def doblar(self, orientación):\n",
    "        if orientación in [\"derecha\", \"izquierda\", \"de frente\", \"retroceso\"]:\n",
    "            self.orientación = orientación\n",
    "            print(\"Doblando\")\n",
    "        else:\n",
    "            print(\"Orientación inválida, opciones = [derecha, izquierda, de frente, retroceso]\")\n",
    "    \n",
    "    def estado(self):\n",
    "        print(f\"Estado del vehículo: \\n- Velocidad: {self.velocidad}\\n- Orientación: {self.orientación}\")\n",
    "    \n",
    "    def describir(self):\n",
    "        print(f\"Características del vehículo:\\n-Tipo: {self.tipo}\\n-Color: {self.color}\\n-Cilindrada: {self.cilindrada}\")"
   ]
  },
  {
   "cell_type": "code",
   "execution_count": 23,
   "metadata": {},
   "outputs": [
    {
     "name": "stdout",
     "output_type": "stream",
     "text": [
      "Acelerando!\n",
      "Estado del vehículo: \n",
      "- Velocidad: 10\n",
      "- Orientación: de frente\n"
     ]
    }
   ],
   "source": [
    "mi_auto= Vehiculo(\"rojo\", \"auto\", 1500)\n",
    "mi_auto.acelerar()\n",
    "mi_auto.estado()"
   ]
  },
  {
   "attachments": {},
   "cell_type": "markdown",
   "metadata": {},
   "source": [
    "5) Crear una clase que permita utilizar las funciones creadas en la práctica del módulo 7<br>\n",
    "Verificar Primo<br>\n",
    "Valor modal<br>\n",
    "Conversión grados<br>\n",
    "Factorial<br>"
   ]
  },
  {
   "cell_type": "code",
   "execution_count": 2,
   "metadata": {},
   "outputs": [],
   "source": [
    "class Utilitarios:\n",
    "    def __init__(self):\n",
    "        pass\n",
    "\n",
    "    def es_primo(self, num):\n",
    "        for i in range(2, num):\n",
    "            if num%i==0:\n",
    "                return False\n",
    "            else:\n",
    "                return True\n",
    "            \n",
    "    def encontrar_repetidos(self, lista_num: list = []):\n",
    "        count = 0\n",
    "        numero = 0\n",
    "        for num in lista_num:\n",
    "            if lista_num.count(num)>count:\n",
    "                numero = num\n",
    "                count = lista_num.count(num)\n",
    "        return numero, count\n",
    "    \n",
    "    def conversion_temperatura(self, valor, escala_origen: str, escala_destino: str):\n",
    "        \"\"\"Convierte entre diferentes tipos de escalas de medición de temperatura.\n",
    "        Las escalas de origen y destino se especifican con las letras: \"C\", \"K\" y \"F\". \"\"\"\n",
    "        escala_origen = escala_origen.casefold()\n",
    "        escala_destino = escala_destino.casefold()\n",
    "        resultado = 0\n",
    "\n",
    "        # 1. convertir a Celsius.\n",
    "        if escala_origen == \"c\":\n",
    "            pass\n",
    "        elif escala_origen == \"k\":\n",
    "            valor -= 273\n",
    "        elif escala_origen == \"f\":\n",
    "            valor = (valor-32)*(5/9)\n",
    "        else:\n",
    "            raise ValueError(\"Por favor ingresar escala origen valida\")\n",
    "        \n",
    "        if escala_destino == \"c\":\n",
    "            resultado = valor\n",
    "        elif escala_destino == \"k\":\n",
    "            resultado = valor + 273\n",
    "        elif escala_destino == \"f\":\n",
    "            resultado = (valor*9/5) + 32\n",
    "        else:\n",
    "            raise ValueError(\"Por favor ingresar escala destino valida\")\n",
    "        \n",
    "        return resultado   \n",
    "    \n",
    "    def calcular_factorial(self, num):\n",
    "        if num<1 or type(num)!=int:\n",
    "            raise ValueError(\"Verificar la variable ingresada\")\n",
    "\n",
    "        if num>1:\n",
    "            num = num * self.calcular_factorial(num-1)      # aqui es necesario agregar la palabra SELF.\n",
    "        return num\n",
    "    \n"
   ]
  },
  {
   "attachments": {},
   "cell_type": "markdown",
   "metadata": {},
   "source": [
    "6) Probar las funciones incorporadas en la clase del punto 5"
   ]
  },
  {
   "cell_type": "code",
   "execution_count": 8,
   "metadata": {},
   "outputs": [
    {
     "name": "stdout",
     "output_type": "stream",
     "text": [
      "El número 3 es primo? True\n",
      "Encontrar repetidos en [3,3,3,3,4,4] (3, 4)\n",
      "Conversión de temperatura: 100 kelvin a farenheit:  -279.4\n",
      "Factorial de 4:  24\n"
     ]
    }
   ],
   "source": [
    "herramienta = Utilitarios()\n",
    "print(\"El número 3 es primo?\",herramienta.es_primo(3))\n",
    "print(\"Encontrar repetidos en [3,3,3,3,4,4]\",herramienta.encontrar_repetidos([3,3,3,3,4,4]))\n",
    "print(\"Conversión de temperatura: 100 kelvin a farenheit: \", herramienta.conversion_temperatura(100, \"k\",\"f\"))\n",
    "print(\"Factorial de 4: \", herramienta.calcular_factorial(4))\n"
   ]
  },
  {
   "attachments": {},
   "cell_type": "markdown",
   "metadata": {},
   "source": [
    "7) Es necesario que la clase creada en el punto 5 contenga una lista, sobre la cual se apliquen las funciones incorporadas"
   ]
  },
  {
   "cell_type": "code",
   "execution_count": 19,
   "metadata": {},
   "outputs": [],
   "source": [
    "class Utilitarios:\n",
    "    def __init__(self, lista):\n",
    "        self.lista = lista\n",
    "\n",
    "    # metodo que verifica por numero\n",
    "    def es_primo_num(self, num):\n",
    "        for i in range(2, num):\n",
    "            if num%i==0:\n",
    "                return False\n",
    "            else:\n",
    "                return True\n",
    "            \n",
    "    # metodo que verifica por lista\n",
    "    def es_primo_lista(self):\n",
    "        for num in self.lista:\n",
    "            if self.es_primo_num(num):\n",
    "                print(num, \"es primo.\")\n",
    "            else:\n",
    "                print(num, \"no es primo.\")\n",
    "    \n",
    "    # cambiamos el método para que use la lista provista en la instancia.\n",
    "    def encontrar_repetidos(self):\n",
    "        count = 0\n",
    "        numero = 0\n",
    "        for num in self.lista:\n",
    "            if self.lista.count(num)>count:\n",
    "                numero = num\n",
    "                count = self.lista.count(num)\n",
    "        return numero, count\n",
    "    \n",
    "\n",
    "    # método usado para conversión de valores dados. \n",
    "    def conversion_temperatura(self, valor, escala_origen: str, escala_destino: str):\n",
    "        \"\"\"Convierte entre diferentes tipos de escalas de medición de temperatura.\n",
    "        Las escalas de origen y destino se especifican con las letras: \"C\", \"K\" y \"F\". \"\"\"\n",
    "        escala_origen = escala_origen.casefold()\n",
    "        escala_destino = escala_destino.casefold()\n",
    "        resultado = 0\n",
    "\n",
    "        # 1. convertir a Celsius.\n",
    "        if escala_origen == \"c\":\n",
    "            pass\n",
    "        elif escala_origen == \"k\":\n",
    "            valor -= 273\n",
    "        elif escala_origen == \"f\":\n",
    "            valor = (valor-32)*(5/9)\n",
    "        else:\n",
    "            raise ValueError(\"Por favor ingresar escala origen valida\")\n",
    "        \n",
    "        if escala_destino == \"c\":\n",
    "            resultado = valor\n",
    "        elif escala_destino == \"k\":\n",
    "            resultado = valor + 273\n",
    "        elif escala_destino == \"f\":\n",
    "            resultado = (valor*9/5) + 32\n",
    "        else:\n",
    "            raise ValueError(\"Por favor ingresar escala destino valida\")\n",
    "        \n",
    "        return resultado   \n",
    "\n",
    "    # nuevo método para convertir valores de la lista.\n",
    "    def conversion_temperatura_lista(self, escala_origen: str, escala_destino: str):\n",
    "        for valor in self.lista:\n",
    "            resultado = self.conversion_temperatura(valor, escala_origen, escala_destino)\n",
    "            print(valor, escala_origen, \"a \", escala_destino, \"es igual a: \", resultado)    \n",
    "\n",
    "    # calcula factorial para un solo numero.        \n",
    "    def calcular_factorial(self, num):\n",
    "        if num<1 or type(num)!=int:\n",
    "            raise ValueError(\"Verificar la variable ingresada\")\n",
    "\n",
    "        if num>1:\n",
    "            num = num * self.calcular_factorial(num-1)      # aqui es necesario agregar la palabra SELF.\n",
    "        return num\n",
    "    \n",
    "    # calcula factoriales para la lista de numeros provistos en la definicion de la instancia.}\n",
    "\n",
    "    def calcular_factorial_lista(self):\n",
    "        for num in self.lista:\n",
    "            factorial = self.calcular_factorial(num)\n",
    "            print(f\"El factorial de {num} es {factorial}\")"
   ]
  },
  {
   "attachments": {},
   "cell_type": "markdown",
   "metadata": {},
   "source": [
    "8) Crear un archivo .py aparte y ubicar allí la clase generada en el punto anterior. Luego realizar la importación del módulo y probar alguna de sus funciones"
   ]
  },
  {
   "cell_type": "code",
   "execution_count": 23,
   "metadata": {},
   "outputs": [
    {
     "name": "stdout",
     "output_type": "stream",
     "text": [
      "3 es primo.\n",
      "4 no es primo.\n",
      "5 es primo.\n",
      "6 no es primo.\n",
      "8 no es primo.\n",
      "3 c a  f es igual a:  37.4\n",
      "4 c a  f es igual a:  39.2\n",
      "5 c a  f es igual a:  41.0\n",
      "6 c a  f es igual a:  42.8\n",
      "8 c a  f es igual a:  46.4\n",
      "El factorial de 3 es 6\n",
      "El factorial de 4 es 24\n",
      "El factorial de 5 es 120\n",
      "El factorial de 6 es 720\n",
      "El factorial de 8 es 40320\n"
     ]
    }
   ],
   "source": [
    "import utilitarios\n",
    "\n",
    "herramienta = utilitarios.Utilitarios([3, 4, 5, 6 , 8])\n",
    "herramienta.es_primo_lista()\n",
    "herramienta.encontrar_repetidos()\n",
    "herramienta.conversion_temperatura_lista(\"c\", \"f\")\n",
    "herramienta.calcular_factorial_lista()"
   ]
  },
  {
   "cell_type": "code",
   "execution_count": 22,
   "metadata": {},
   "outputs": [
    {
     "data": {
      "text/plain": [
       "['f:\\\\Python\\\\Python-Prep\\\\M08_clasesyOOP',\n",
       " 'f:\\\\Python 3.9\\\\python39.zip',\n",
       " 'f:\\\\Python 3.9\\\\DLLs',\n",
       " 'f:\\\\Python 3.9\\\\lib',\n",
       " 'f:\\\\Python 3.9',\n",
       " '',\n",
       " 'C:\\\\Users\\\\Une\\\\AppData\\\\Roaming\\\\Python\\\\Python39\\\\site-packages',\n",
       " 'C:\\\\Users\\\\Une\\\\AppData\\\\Roaming\\\\Python\\\\Python39\\\\site-packages\\\\win32',\n",
       " 'C:\\\\Users\\\\Une\\\\AppData\\\\Roaming\\\\Python\\\\Python39\\\\site-packages\\\\win32\\\\lib',\n",
       " 'C:\\\\Users\\\\Une\\\\AppData\\\\Roaming\\\\Python\\\\Python39\\\\site-packages\\\\Pythonwin',\n",
       " 'f:\\\\Python 3.9\\\\lib\\\\site-packages']"
      ]
     },
     "execution_count": 22,
     "metadata": {},
     "output_type": "execute_result"
    }
   ],
   "source": [
    "import sys\n",
    "sys.path"
   ]
  },
  {
   "cell_type": "code",
   "execution_count": null,
   "metadata": {},
   "outputs": [],
   "source": []
  }
 ],
 "metadata": {
  "interpreter": {
   "hash": "c85384e4cb51c8b72350f3a8712cc8351fdc3955e32a27f9b60c6242ab125f01"
  },
  "kernelspec": {
   "display_name": "Python 3 (ipykernel)",
   "language": "python",
   "name": "python3"
  },
  "language_info": {
   "codemirror_mode": {
    "name": "ipython",
    "version": 3
   },
   "file_extension": ".py",
   "mimetype": "text/x-python",
   "name": "python",
   "nbconvert_exporter": "python",
   "pygments_lexer": "ipython3",
   "version": "3.9.6"
  }
 },
 "nbformat": 4,
 "nbformat_minor": 4
}
