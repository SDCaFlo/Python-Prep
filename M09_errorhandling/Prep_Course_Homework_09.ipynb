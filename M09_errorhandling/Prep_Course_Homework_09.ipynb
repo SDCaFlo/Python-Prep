{
 "cells": [
  {
   "attachments": {},
   "cell_type": "markdown",
   "metadata": {},
   "source": [
    "## Manejo de errores"
   ]
  },
  {
   "attachments": {},
   "cell_type": "markdown",
   "metadata": {},
   "source": [
    "1) Con la clase creada en el módulo 7, tener en cuenta diferentes casos en que el código pudiera arrojar error. Por ejemplo, en la creación del objeto recibimos una lista de números enteros pero ¿qué pasa si se envía otro tipo de dato?"
   ]
  },
  {
   "cell_type": "code",
   "execution_count": 1,
   "metadata": {},
   "outputs": [],
   "source": [
    "import utilitarios2 as u"
   ]
  },
  {
   "cell_type": "code",
   "execution_count": 2,
   "metadata": {},
   "outputs": [
    {
     "data": {
      "text/plain": [
       "True"
      ]
     },
     "execution_count": 2,
     "metadata": {},
     "output_type": "execute_result"
    }
   ],
   "source": [
    "# herramienta = u.Utilitarios(\"asd\") # verifica que el tipo de dato sea una lista. \n",
    "# herramienta = u.Utilitarios([1,2,3, \"asd\"]) # Verifica que los elementos de la lista sean enteros.\n",
    "herramienta = u.Utilitarios([1, 2, 3])\n",
    "herramienta.es_primo_num(7)\n",
    "# etc.."
   ]
  },
  {
   "attachments": {},
   "cell_type": "markdown",
   "metadata": {},
   "source": [
    "2) En la función que hace la conversión de grados, validar que los parámetros enviados sean los esperados, de no serlo, informar cuáles son los valores esperados."
   ]
  },
  {
   "cell_type": "code",
   "execution_count": 8,
   "metadata": {},
   "outputs": [
    {
     "ename": "TypeError",
     "evalue": "El valor de las escalas origen y destino debe ser string, (K/C/F)",
     "output_type": "error",
     "traceback": [
      "\u001b[1;31m---------------------------------------------------------------------------\u001b[0m",
      "\u001b[1;31mTypeError\u001b[0m                                 Traceback (most recent call last)",
      "Cell \u001b[1;32mIn[8], line 3\u001b[0m\n\u001b[0;32m      1\u001b[0m \u001b[38;5;28;01mimport\u001b[39;00m \u001b[38;5;21;01mimportlib\u001b[39;00m\n\u001b[0;32m      2\u001b[0m importlib\u001b[38;5;241m.\u001b[39mreload(u)\n\u001b[1;32m----> 3\u001b[0m \u001b[43mherramienta\u001b[49m\u001b[38;5;241;43m.\u001b[39;49m\u001b[43mconversion_temperatura\u001b[49m\u001b[43m(\u001b[49m\u001b[38;5;241;43m123\u001b[39;49m\u001b[43m,\u001b[49m\u001b[43m \u001b[49m\u001b[38;5;124;43m'\u001b[39;49m\u001b[38;5;124;43mc\u001b[39;49m\u001b[38;5;124;43m'\u001b[39;49m\u001b[43m,\u001b[49m\u001b[43m \u001b[49m\u001b[38;5;241;43m123\u001b[39;49m\u001b[43m)\u001b[49m\n",
      "File \u001b[1;32mf:\\Python\\Python-Prep\\M09_errorhandling\\utilitarios2.py:48\u001b[0m, in \u001b[0;36mUtilitarios.conversion_temperatura\u001b[1;34m(self, valor, escala_origen, escala_destino)\u001b[0m\n\u001b[0;32m     45\u001b[0m     \u001b[38;5;28;01mraise\u001b[39;00m \u001b[38;5;167;01mTypeError\u001b[39;00m(\u001b[38;5;124m\"\u001b[39m\u001b[38;5;124mEl valor debe ser float o int\u001b[39m\u001b[38;5;124m\"\u001b[39m)\n\u001b[0;32m     47\u001b[0m \u001b[38;5;28;01mif\u001b[39;00m \u001b[38;5;28mtype\u001b[39m(escala_origen)\u001b[38;5;241m!=\u001b[39m\u001b[38;5;28mstr\u001b[39m \u001b[38;5;129;01mor\u001b[39;00m \u001b[38;5;28mtype\u001b[39m(escala_destino)\u001b[38;5;241m!=\u001b[39m\u001b[38;5;28mstr\u001b[39m:\n\u001b[1;32m---> 48\u001b[0m     \u001b[38;5;28;01mraise\u001b[39;00m \u001b[38;5;167;01mTypeError\u001b[39;00m(\u001b[38;5;124m\"\u001b[39m\u001b[38;5;124mEl valor de las escalas origen y destino debe ser string, (K/C/F)\u001b[39m\u001b[38;5;124m\"\u001b[39m)\n\u001b[0;32m     49\u001b[0m escala_origen \u001b[38;5;241m=\u001b[39m escala_origen\u001b[38;5;241m.\u001b[39mcasefold()\n\u001b[0;32m     50\u001b[0m escala_destino \u001b[38;5;241m=\u001b[39m escala_destino\u001b[38;5;241m.\u001b[39mcasefold()\n",
      "\u001b[1;31mTypeError\u001b[0m: El valor de las escalas origen y destino debe ser string, (K/C/F)"
     ]
    }
   ],
   "source": [
    "import importlib\n",
    "importlib.reload(u)\n",
    "herramienta.conversion_temperatura(123, 'c', 123)"
   ]
  },
  {
   "attachments": {},
   "cell_type": "markdown",
   "metadata": {},
   "source": [
    "3) Importar el modulo \"unittest\" y crear los siguientes casos de pruebas sobre la clase utilizada en el punto 2<br>\n",
    "Creacion del objeto incorrecta<br>\n",
    "Creacion correcta del objeto<br>\n",
    "Metodo valor_modal()<br>\n",
    "\n",
    "Se puede usar \"raise ValueError()\" en la creación de la clase para verificar el error. Investigar sobre esta funcionalidad."
   ]
  },
  {
   "cell_type": "code",
   "execution_count": 7,
   "metadata": {},
   "outputs": [
    {
     "name": "stderr",
     "output_type": "stream",
     "text": [
      "test_creación_correct (__main__.testUtilitarios) ... ok\n",
      "test_creación_incorrecta (__main__.testUtilitarios) ... ok\n",
      "test_creación_incorrecta_2 (__main__.testUtilitarios) ... ok\n",
      "test_valor_modal (__main__.testUtilitarios) ... ok\n",
      "\n",
      "----------------------------------------------------------------------\n",
      "Ran 4 tests in 0.002s\n",
      "\n",
      "OK\n"
     ]
    },
    {
     "data": {
      "text/plain": [
       "<unittest.main.TestProgram at 0x222e92239a0>"
      ]
     },
     "execution_count": 7,
     "metadata": {},
     "output_type": "execute_result"
    }
   ],
   "source": [
    "# Se usó tanto TypeError, como valueError. \n",
    "# TypeError se utiliza cuando se recibe un tipo de valor incorrecto por ejemplo, se esperaba INT, pero se recibe un string.\n",
    "# valueError se utiliza cuando el tipo de dato es correcto pero valor esperado es otro. Por ejemplo, se esperaban los valores 'z', 'y' o 'x' , pero se introduce 'a'.\n",
    "\n",
    "\n",
    "import unittest\n",
    "from utilitarios2 import *\n",
    "\n",
    "class testUtilitarios(unittest.TestCase):\n",
    "\n",
    "    # se crea este primer bloque usando el método assertRaises\n",
    "    def test_creación_incorrecta(self):\n",
    "        with self.assertRaises((ValueError, TypeError)):\n",
    "            test_object = Utilitarios([1,2,-3])\n",
    "\n",
    "    # se crea este segundo método usando el método assertEqual. y una clásula tryExcept.\n",
    "    def test_creación_incorrecta_2(self):\n",
    "        try:\n",
    "            test_object = Utilitarios(\"asd\")\n",
    "            result = 1\n",
    "        except (ValueError, TypeError):\n",
    "            result = 0\n",
    "\n",
    "        self.assertEqual(result, 0)\n",
    "    \n",
    "    # se usa el metodo asserIsIstance para verificar que el objeto creado sea instancia.\n",
    "    def test_creación_correct(self):\n",
    "        lista = [1,2,3]\n",
    "        test_object = Utilitarios(lista)\n",
    "        self.assertIsInstance(test_object, Utilitarios)\n",
    "\n",
    "    def test_valor_modal(self):\n",
    "        test_list = [1,2,3,3,3,4]\n",
    "        resultado = (3,3)\n",
    "        test_object = Utilitarios(test_list)\n",
    "        self.assertEqual(test_object.encontrar_repetidos(), resultado)\n",
    "\n",
    "unittest.main(argv=[''], verbosity=2, exit=False)\n",
    "\n"
   ]
  },
  {
   "attachments": {},
   "cell_type": "markdown",
   "metadata": {},
   "source": [
    "4) Probar una creación incorrecta y visualizar la salida del \"raise\""
   ]
  },
  {
   "cell_type": "code",
   "execution_count": 11,
   "metadata": {},
   "outputs": [
    {
     "ename": "TypeError",
     "evalue": "Se requiere una lista como tipo de dato",
     "output_type": "error",
     "traceback": [
      "\u001b[1;31m---------------------------------------------------------------------------\u001b[0m",
      "\u001b[1;31mTypeError\u001b[0m                                 Traceback (most recent call last)",
      "Cell \u001b[1;32mIn[11], line 1\u001b[0m\n\u001b[1;32m----> 1\u001b[0m item_invalido \u001b[38;5;241m=\u001b[39m \u001b[43mUtilitarios\u001b[49m\u001b[43m(\u001b[49m\u001b[38;5;124;43m\"\u001b[39;49m\u001b[38;5;124;43masd\u001b[39;49m\u001b[38;5;124;43m\"\u001b[39;49m\u001b[43m)\u001b[49m\n",
      "File \u001b[1;32mf:\\Python\\Python-Prep\\M09_errorhandling\\utilitarios2.py:11\u001b[0m, in \u001b[0;36mUtilitarios.__init__\u001b[1;34m(self, lista)\u001b[0m\n\u001b[0;32m      9\u001b[0m             \u001b[38;5;28;01mraise\u001b[39;00m \u001b[38;5;167;01mValueError\u001b[39;00m(\u001b[38;5;124m\"\u001b[39m\u001b[38;5;124mLos numeros en la lista deben ser positivos\u001b[39m\u001b[38;5;124m\"\u001b[39m)                   \n\u001b[0;32m     10\u001b[0m \u001b[38;5;28;01melse\u001b[39;00m:\n\u001b[1;32m---> 11\u001b[0m     \u001b[38;5;28;01mraise\u001b[39;00m \u001b[38;5;167;01mTypeError\u001b[39;00m(\u001b[38;5;124m\"\u001b[39m\u001b[38;5;124mSe requiere una lista como tipo de dato\u001b[39m\u001b[38;5;124m\"\u001b[39m)\n",
      "\u001b[1;31mTypeError\u001b[0m: Se requiere una lista como tipo de dato"
     ]
    }
   ],
   "source": [
    "item_invalido = Utilitarios(\"asd\")"
   ]
  },
  {
   "attachments": {},
   "cell_type": "markdown",
   "metadata": {},
   "source": [
    "6) Agregar casos de pruebas para el método verifica_primos() realizando el cambio en la clase, para que devuelva una lista de True o False en función de que el elemento en la posisicón sea o no primo"
   ]
  },
  {
   "cell_type": "code",
   "execution_count": 2,
   "metadata": {},
   "outputs": [
    {
     "name": "stderr",
     "output_type": "stream",
     "text": [
      "\n",
      "----------------------------------------------------------------------\n",
      "Ran 0 tests in 0.000s\n",
      "\n",
      "OK\n"
     ]
    },
    {
     "data": {
      "text/plain": [
       "<unittest.main.TestProgram at 0x1dc0b434460>"
      ]
     },
     "execution_count": 2,
     "metadata": {},
     "output_type": "execute_result"
    }
   ],
   "source": [
    "import unittest\n",
    "from utilitarios2 import *\n",
    "\n",
    "\n",
    "\n",
    "class TestPrimos(unittest.TestCase):\n",
    "\n",
    "    def test_primos_lista_correcta(self):\n",
    "        lista_prueba = [1, 2, 3, 4, 5, 6]\n",
    "        objeto_prueba = Utilitarios(lista_prueba)\n",
    "        lista_primos = objeto_prueba.es_primo_lista()\n",
    "        self.assertEqual([False,   False, True, False, True, False], lista_primos)\n",
    "\n",
    "unittest.main(argv=[''], verbosity=2, exit=False)"
   ]
  },
  {
   "attachments": {},
   "cell_type": "markdown",
   "metadata": {},
   "source": [
    "7) Agregar casos de pruebas para el método conversion_grados()"
   ]
  },
  {
   "cell_type": "code",
   "execution_count": null,
   "metadata": {},
   "outputs": [],
   "source": []
  },
  {
   "attachments": {},
   "cell_type": "markdown",
   "metadata": {},
   "source": [
    "8) Agregar casos de pruebas para el método factorial()"
   ]
  },
  {
   "cell_type": "code",
   "execution_count": null,
   "metadata": {},
   "outputs": [],
   "source": []
  }
 ],
 "metadata": {
  "interpreter": {
   "hash": "c85384e4cb51c8b72350f3a8712cc8351fdc3955e32a27f9b60c6242ab125f01"
  },
  "kernelspec": {
   "display_name": "Python 3 (ipykernel)",
   "language": "python",
   "name": "python3"
  },
  "language_info": {
   "codemirror_mode": {
    "name": "ipython",
    "version": 3
   },
   "file_extension": ".py",
   "mimetype": "text/x-python",
   "name": "python",
   "nbconvert_exporter": "python",
   "pygments_lexer": "ipython3",
   "version": "3.9.6"
  }
 },
 "nbformat": 4,
 "nbformat_minor": 4
}
